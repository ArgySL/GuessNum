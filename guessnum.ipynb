{
 "cells": [
  {
   "cell_type": "code",
   "execution_count": 12,
   "metadata": {},
   "outputs": [],
   "source": [
    "def guess_thenum():\n",
    "    import random\n",
    "\n",
    "    hidden_num = random.randint(1,20)\n",
    "\n",
    "    while True:\n",
    "\n",
    "        guess = int(input('Welcome to the Guess the Number game! Please pick any number between 1 and 20!'))\n",
    "        #if guess != range(1,20):\n",
    "        #    print('You did not specify a number!')\n",
    "        #    break\n",
    "        if guess == hidden_num:\n",
    "            print(f'Congrats, you guessed right! The hidden number was {hidden_num}!')\n",
    "            break\n",
    "\n",
    "        if guess < hidden_num:\n",
    "            print(\"Your guess is lower!\")\n",
    "        else:\n",
    "            print(\"Your guess is higher!\")\n",
    "        # Helping the player reach the hidden number sooner\n",
    "        if abs(guess - hidden_num) < 2:\n",
    "            print('You are very close!')\n",
    "        elif abs(guess - hidden_num) < 5:\n",
    "            print('You are getting closer.')\n",
    "            \n"
   ]
  },
  {
   "cell_type": "code",
   "execution_count": 14,
   "metadata": {},
   "outputs": [
    {
     "name": "stdout",
     "output_type": "stream",
     "text": [
      "Your guess is lower!\n",
      "Your guess is lower!\n",
      "Your guess is lower!\n",
      "Your guess is lower!\n",
      "Your guess is lower!\n",
      "Your guess is lower!\n",
      "Your guess is lower!\n",
      "You are getting closer.\n",
      "Your guess is lower!\n",
      "You are getting closer.\n",
      "Your guess is lower!\n",
      "You are very close!\n",
      "Your guess is lower!\n",
      "You are very close!\n",
      "Congrats, you guessed right! The hidden number was 13!\n"
     ]
    }
   ],
   "source": [
    "guess_thenum()"
   ]
  },
  {
   "cell_type": "code",
   "execution_count": 7,
   "metadata": {},
   "outputs": [
    {
     "name": "stdout",
     "output_type": "stream",
     "text": [
      "Your guess is too high.\n",
      "Your guess is too high.\n",
      "Your guess is too high.\n",
      "Your guess is too high.\n",
      "You're getting closer.\n",
      "Your guess is too low.\n",
      "Your guess is too low.\n",
      "Your guess is too low.\n",
      "Your guess is too low.\n",
      "Your guess is too low.\n",
      "You're getting closer.\n",
      "Your guess is too low.\n",
      "You're getting closer.\n",
      "Your guess is too low.\n",
      "You're getting closer.\n",
      "Your guess is too low.\n",
      "You're getting closer.\n",
      "Your guess is too low.\n",
      "You're very close!\n",
      "Your guess is too low.\n",
      "You're very close!\n",
      "Your guess is too low.\n",
      "You're very close!\n",
      "Your guess is too low.\n",
      "You're very close!\n",
      "Congratulations, you guessed the number!\n"
     ]
    }
   ],
   "source": [
    "import random\n",
    "\n",
    "# Generate a random number between 1 and 100\n",
    "hidden_number = random.randint(1, 100)\n",
    "\n",
    "# Loop until the user correctly guesses the number\n",
    "while True:\n",
    "    # Ask the user to guess the number\n",
    "    guess = int(input(\"Guess the number between 1 and 100: \"))\n",
    "    \n",
    "    # Check if the guess is correct\n",
    "    if guess == hidden_number:\n",
    "        print(\"Congratulations, you guessed the number!\")\n",
    "        break\n",
    "    \n",
    "    # Otherwise, provide feedback on how close the guess was\n",
    "    if guess < hidden_number:\n",
    "        print(\"Your guess is too low.\")\n",
    "    else:\n",
    "        print(\"Your guess is too high.\")\n",
    "        \n",
    "    # Check how close the guess was\n",
    "    if abs(guess - hidden_number) < 5:\n",
    "        print(\"You're very close!\")\n",
    "    elif abs(guess - hidden_number) < 10:\n",
    "        print(\"You're getting closer.\")"
   ]
  },
  {
   "cell_type": "code",
   "execution_count": null,
   "metadata": {},
   "outputs": [],
   "source": []
  }
 ],
 "metadata": {
  "kernelspec": {
   "display_name": "Python 3",
   "language": "python",
   "name": "python3"
  },
  "language_info": {
   "codemirror_mode": {
    "name": "ipython",
    "version": 3
   },
   "file_extension": ".py",
   "mimetype": "text/x-python",
   "name": "python",
   "nbconvert_exporter": "python",
   "pygments_lexer": "ipython3",
   "version": "3.7.4"
  },
  "orig_nbformat": 4
 },
 "nbformat": 4,
 "nbformat_minor": 2
}
