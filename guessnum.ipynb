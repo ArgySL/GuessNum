{
 "cells": [
  {
   "cell_type": "code",
   "execution_count": 12,
   "metadata": {},
   "outputs": [],
   "source": [
    "def guess_thenum():\n",
    "    import random\n",
    "\n",
    "    hidden_num = random.randint(1,20)\n",
    "\n",
    "    while True:\n",
    "\n",
    "        guess = int(input('Welcome to the Guess the Number game! Please pick any number between 1 and 20!'))\n",
    "        #if guess != range(1,20):\n",
    "        #    print('You did not specify a number!')\n",
    "        #    break\n",
    "        if guess == hidden_num:\n",
    "            print(f'Congrats, you guessed right! The hidden number was {hidden_num}!')\n",
    "            break\n",
    "\n",
    "        if guess < hidden_num:\n",
    "            print(\"Your guess is lower!\")\n",
    "        else:\n",
    "            print(\"Your guess is higher!\")\n",
    "        # Helping the player reach the hidden number sooner\n",
    "        if abs(guess - hidden_num) < 2:\n",
    "            print('You are very close!')\n",
    "        elif abs(guess - hidden_num) < 5:\n",
    "            print('You are getting closer.')\n",
    "            \n"
   ]
  },
  {
   "cell_type": "code",
   "execution_count": 14,
   "metadata": {},
   "outputs": [
    {
     "name": "stdout",
     "output_type": "stream",
     "text": [
      "Your guess is lower!\n",
      "Your guess is lower!\n",
      "Your guess is lower!\n",
      "Your guess is lower!\n",
      "Your guess is lower!\n",
      "Your guess is lower!\n",
      "Your guess is lower!\n",
      "You are getting closer.\n",
      "Your guess is lower!\n",
      "You are getting closer.\n",
      "Your guess is lower!\n",
      "You are very close!\n",
      "Your guess is lower!\n",
      "You are very close!\n",
      "Congrats, you guessed right! The hidden number was 13!\n"
     ]
    }
   ],
   "source": [
    "guess_thenum()"
   ]
  },
  {
   "cell_type": "code",
   "execution_count": null,
   "metadata": {},
   "outputs": [],
   "source": []
  }
 ],
 "metadata": {
  "kernelspec": {
   "display_name": "Python 3",
   "language": "python",
   "name": "python3"
  },
  "language_info": {
   "codemirror_mode": {
    "name": "ipython",
    "version": 3
   },
   "file_extension": ".py",
   "mimetype": "text/x-python",
   "name": "python",
   "nbconvert_exporter": "python",
   "pygments_lexer": "ipython3",
   "version": "3.7.4"
  },
  "orig_nbformat": 4
 },
 "nbformat": 4,
 "nbformat_minor": 2
}
